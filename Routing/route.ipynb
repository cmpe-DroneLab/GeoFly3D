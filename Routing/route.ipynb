{
 "cells": [
  {
   "cell_type": "code",
   "execution_count": 25,
   "metadata": {},
   "outputs": [],
   "source": [
    "import smopy\n",
    "import matplotlib.pyplot as plt\n",
    "import haversine as hs \n",
    "from haversine import Unit\n"
   ]
  },
  {
   "cell_type": "code",
   "execution_count": 30,
   "metadata": {},
   "outputs": [
    {
     "name": "stdout",
     "output_type": "stream",
     "text": [
      "The distance calculated is: 68.49456091392736\n"
     ]
    }
   ],
   "source": [
    "\n",
    "\n",
    "loc00=(41.085695, 29.044161)\n",
    "loc11=(41.086160, 29.044697)\n",
    "# map = smopy.Map((41.085695,29.044161,41.086160,29.044697), z=18)\n",
    "\n",
    "\n",
    "map = smopy.Map((loc00[0],loc00[1],loc11[0],loc11[1]), z=18)\n",
    "img = map.img\n",
    "\n",
    "result=hs.haversine(loc00,loc11,unit=Unit.METERS)\n",
    "print(\"The distance calculated is:\",result) "
   ]
  },
  {
   "cell_type": "code",
   "execution_count": 31,
   "metadata": {},
   "outputs": [],
   "source": [
    "def init_box(node1,node2):\n",
    "    x0 = node1[0]\n",
    "    y0 = node1[1]\n",
    "    x1 = node2[0]\n",
    "    y1 = node2[1]\n",
    "\n",
    "    loc00 = (0,0)\n",
    "    loc01 = (0,hs.haversine((x0,y0),(x0,y1),unit=Unit.METERS))\n",
    "    loc10 = (hs.haversine((x0,y0),(x1,y0),unit=Unit.METERS),0)\n",
    "    loc11 = (hs.haversine((x0,y0),(x1,y0),unit=Unit.METERS),hs.haversine((x0,y0),(x0,y1),unit=Unit.METERS))\n",
    "\n",
    "    return (loc00,loc01,loc10,loc11)\n",
    "\n",
    "n1,n2,n3,n4 = init_box(loc00,loc11)"
   ]
  },
  {
   "cell_type": "code",
   "execution_count": 32,
   "metadata": {},
   "outputs": [
    {
     "data": {
      "text/plain": [
       "68.49466515751693"
      ]
     },
     "execution_count": 32,
     "metadata": {},
     "output_type": "execute_result"
    }
   ],
   "source": []
  }
 ],
 "metadata": {
  "kernelspec": {
   "display_name": "route",
   "language": "python",
   "name": "python3"
  },
  "language_info": {
   "codemirror_mode": {
    "name": "ipython",
    "version": 3
   },
   "file_extension": ".py",
   "mimetype": "text/x-python",
   "name": "python",
   "nbconvert_exporter": "python",
   "pygments_lexer": "ipython3",
   "version": "3.12.2"
  }
 },
 "nbformat": 4,
 "nbformat_minor": 2
}
